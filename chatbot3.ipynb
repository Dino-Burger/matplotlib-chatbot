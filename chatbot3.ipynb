{
 "cells": [
  {
   "cell_type": "markdown",
   "metadata": {},
   "source": [
    "(https://stackabuse.com/python-for-nlp-creating-a-rule-based-chatbot/)"
   ]
  },
  {
   "cell_type": "code",
   "execution_count": 51,
   "metadata": {},
   "outputs": [],
   "source": [
    "allowed_states = \"\"\"\n",
    "entry: a,b,c\n",
    "\n",
    "a: entry, a1, a2\n",
    " a1: entry\n",
    " a2: entry\n",
    "b: entry\n",
    "c: entry\n",
    "\n",
    "\"\"\""
   ]
  },
  {
   "cell_type": "code",
   "execution_count": 69,
   "metadata": {},
   "outputs": [],
   "source": [
    "allowed_states = \"\"\"\n",
    "entry: plot, add_legend, add_legend_top_right, add_legend_top_left\n",
    "\n",
    "plot: entry\n",
    "add_legend: add_legend_top_right, add_legend_top_left, entry\n",
    "add_legend_top_right: end\n",
    "add_legend_top_left: end\n",
    "\n",
    "\"\"\""
   ]
  },
  {
   "cell_type": "code",
   "execution_count": 70,
   "metadata": {},
   "outputs": [],
   "source": [
    "state_to_command = {\n",
    "    'entry': [],\n",
    "    'plot': [\"plt.plot(x)\"],\n",
    "    'add_legend': [],\n",
    "    'add_legend_top_right': [\"plt.legend(['test'], loc='upper right')\"],\n",
    "    'add_legend_top_left': [\"plt.legend(['test'], loc='upper left')\"],\n",
    "}"
   ]
  },
  {
   "cell_type": "code",
   "execution_count": 71,
   "metadata": {},
   "outputs": [],
   "source": [
    "state_user_message = {\n",
    "    'add_legend': \"Would you like to place the legend to the left or the right?\"\n",
    "}"
   ]
  },
  {
   "cell_type": "code",
   "execution_count": 72,
   "metadata": {},
   "outputs": [],
   "source": [
    "def states_string_to_data_structure(input_string):\n",
    "    temp1 = [ x.strip() for x in input_string.split('\\n') if x.strip() != \"\" ]\n",
    "    temp2 = [ x.split(':') for x in temp1 ]\n",
    "    def f(x):\n",
    "        result = [ y.strip() for y in x.split(',') if y.strip() != \"\" ]\n",
    "        return result\n",
    "    states = { x[0].strip() : f(x[1]) for x in temp2 }\n",
    "    return states"
   ]
  },
  {
   "cell_type": "code",
   "execution_count": 73,
   "metadata": {},
   "outputs": [],
   "source": [
    "states = states_string_to_data_structure(allowed_states)"
   ]
  },
  {
   "cell_type": "code",
   "execution_count": 79,
   "metadata": {},
   "outputs": [
    {
     "name": "stdout",
     "output_type": "stream",
     "text": [
      "please select from ['plot', 'add_legend', 'add_legend_top_right', 'add_legend_top_left']\n"
     ]
    },
    {
     "name": "stdin",
     "output_type": "stream",
     "text": [
      " plot\n"
     ]
    },
    {
     "name": "stdout",
     "output_type": "stream",
     "text": [
      "plot\n"
     ]
    },
    {
     "data": {
      "image/png": "[encoded data removed]",
      "text/plain": [
       "<Figure size 432x288 with 1 Axes>"
      ]
     },
     "metadata": {
      "needs_background": "light"
     },
     "output_type": "display_data"
    },
    {
     "name": "stdout",
     "output_type": "stream",
     "text": [
      "entry\n"
     ]
    },
    {
     "data": {
      "image/png": "[encoded data removed]",
      "text/plain": [
       "<Figure size 432x288 with 1 Axes>"
      ]
     },
     "metadata": {
      "needs_background": "light"
     },
     "output_type": "display_data"
    },
    {
     "name": "stdout",
     "output_type": "stream",
     "text": [
      "please select from ['plot', 'add_legend', 'add_legend_top_right', 'add_legend_top_left']\n"
     ]
    },
    {
     "name": "stdin",
     "output_type": "stream",
     "text": [
      " add_legend\n"
     ]
    },
    {
     "name": "stdout",
     "output_type": "stream",
     "text": [
      "Would you like to place the legend to the left or the right?\n"
     ]
    },
    {
     "data": {
      "image/png": "[encoded data removed]",
      "text/plain": [
       "<Figure size 432x288 with 1 Axes>"
      ]
     },
     "metadata": {
      "needs_background": "light"
     },
     "output_type": "display_data"
    },
    {
     "name": "stdout",
     "output_type": "stream",
     "text": [
      "please select from ['add_legend_top_right', 'add_legend_top_left', 'entry']\n"
     ]
    },
    {
     "name": "stdin",
     "output_type": "stream",
     "text": [
      " add_legend_top_right\n"
     ]
    },
    {
     "name": "stdout",
     "output_type": "stream",
     "text": [
      "add_legend_top_right\n"
     ]
    },
    {
     "data": {
      "image/png": "[encoded data removed]",
      "text/plain": [
       "<Figure size 432x288 with 1 Axes>"
      ]
     },
     "metadata": {
      "needs_background": "light"
     },
     "output_type": "display_data"
    },
    {
     "name": "stdout",
     "output_type": "stream",
     "text": [
      "bye\n"
     ]
    }
   ],
   "source": [
    "flag=True\n",
    "curr_state = 'entry'\n",
    "all_states = ['entry']\n",
    "all_commands = []\n",
    "\n",
    "while(flag):\n",
    "    possible_next_steps = states[curr_state]\n",
    "    if len(possible_next_steps) > 1:\n",
    "        print(\"please select from\", possible_next_steps)\n",
    "        my_in = input()\n",
    "    else:\n",
    "        my_in = possible_next_steps[0]\n",
    "    \n",
    "    if my_in.lower() == 'end':\n",
    "        flag = False\n",
    "    elif my_in not in possible_next_steps:\n",
    "        print(\"Sry, couldn't understand you!\")\n",
    "        continue\n",
    "    else: # so my_in is now in possible_next_steps\n",
    "        print(state_user_message.get(my_in,my_in))\n",
    "        all_states.append(my_in)\n",
    "        all_commands.extend(state_to_command.get(my_in,[]))\n",
    "        #\n",
    "        [ eval(x) for x in all_commands ]\n",
    "        plt.show()\n",
    "        #\n",
    "        curr_state = my_in\n",
    "print('bye')"
   ]
  },
  {
   "cell_type": "code",
   "execution_count": 77,
   "metadata": {},
   "outputs": [
    {
     "data": {
      "text/plain": [
       "['entry', 'add_legend', 'add_legend_top_right']"
      ]
     },
     "execution_count": 77,
     "metadata": {},
     "output_type": "execute_result"
    }
   ],
   "source": [
    "all_states"
   ]
  },
  {
   "cell_type": "code",
   "execution_count": 61,
   "metadata": {},
   "outputs": [],
   "source": [
    "%matplotlib inline\n",
    "from matplotlib import pyplot as plt"
   ]
  },
  {
   "cell_type": "code",
   "execution_count": 62,
   "metadata": {},
   "outputs": [],
   "source": [
    "x= [1,2,4,5,6]"
   ]
  },
  {
   "cell_type": "code",
   "execution_count": 67,
   "metadata": {},
   "outputs": [
    {
     "data": {
      "text/plain": [
       "<matplotlib.legend.Legend at 0x7fc99b0b6410>"
      ]
     },
     "execution_count": 67,
     "metadata": {},
     "output_type": "execute_result"
    },
    {
     "data": {
      "image/png": "[encoded data removed]",
      "text/plain": [
       "<Figure size 432x288 with 1 Axes>"
      ]
     },
     "metadata": {
      "needs_background": "light"
     },
     "output_type": "display_data"
    }
   ],
   "source": [
    "plt.plot(x)\n",
    "plt.legend(['test'], loc='upper right')"
   ]
  },
  {
   "cell_type": "code",
   "execution_count": null,
   "metadata": {},
   "outputs": [],
   "source": []
  },
  {
   "cell_type": "code",
   "execution_count": null,
   "metadata": {},
   "outputs": [],
   "source": []
  },
  {
   "cell_type": "markdown",
   "metadata": {},
   "source": []
  }
 ],
 "metadata": {
  "kernelspec": {
   "display_name": "Python [conda env:dl] *",
   "language": "python",
   "name": "conda-env-dl-py"
  },
  "language_info": {
   "codemirror_mode": {
    "name": "ipython",
    "version": 3
   },
   "file_extension": ".py",
   "mimetype": "text/x-python",
   "name": "python",
   "nbconvert_exporter": "python",
   "pygments_lexer": "ipython3",
   "version": "3.7.4"
  }
 },
 "nbformat": 4,
 "nbformat_minor": 4
}
