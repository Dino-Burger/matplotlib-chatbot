{
 "cells": [
  {
   "cell_type": "markdown",
   "metadata": {},
   "source": [
    "(https://stackabuse.com/python-for-nlp-creating-a-rule-based-chatbot/)"
   ]
  },
  {
   "cell_type": "code",
   "execution_count": null,
   "metadata": {},
   "outputs": [],
   "source": [
    "allowed_states = \"\"\"\n",
    "entry: plot, bar, add_legend, add_legend_top_right, add_legend_top_left\n",
    "\n",
    "plot: entry\n",
    "bar: entry\n",
    "add_legend: add_legend_top_right, add_legend_top_left, entry\n",
    "add_legend_top_right: entry\n",
    "add_legend_top_left: end\n",
    "\n",
    "\"\"\""
   ]
  },
  {
   "cell_type": "code",
   "execution_count": null,
   "metadata": {},
   "outputs": [],
   "source": [
    "state_requires = {\n",
    "    'add_legend': ({'plot', 'bar'}, \"please plot something first\"),\n",
    "    'add_legend_top_right': ({'plot', 'bar'}, \"please plot something first\"),\n",
    "    'add_legend_top_left': ({'plot', 'bar'}, \"please plot something first\"),    \n",
    "}"
   ]
  },
  {
   "cell_type": "code",
   "execution_count": null,
   "metadata": {},
   "outputs": [],
   "source": [
    "state_to_command = {\n",
    "    'entry': [],\n",
    "    'plot': [\"plt.plot(x)\"],\n",
    "    'bar': [\"plt.bar(x, height)\"],\n",
    "    'add_legend': [],\n",
    "    'add_legend_top_right': [\"plt.legend(['test'], loc='upper right')\"],\n",
    "    'add_legend_top_left': [\"plt.legend(['test'], loc='upper left')\"],\n",
    "}"
   ]
  },
  {
   "cell_type": "code",
   "execution_count": null,
   "metadata": {},
   "outputs": [],
   "source": [
    "state_user_message = {\n",
    "    'add_legend': \"Would you like to place the legend to the left or the right?\"\n",
    "}"
   ]
  },
  {
   "cell_type": "code",
   "execution_count": null,
   "metadata": {},
   "outputs": [],
   "source": [
    "state_phrases = {\n",
    "    'plot': [\"Plot x\"],\n",
    "}"
   ]
  },
  {
   "cell_type": "code",
   "execution_count": null,
   "metadata": {},
   "outputs": [],
   "source": [
    "def states_string_to_data_structure(input_string):\n",
    "    temp1 = [ x.strip() for x in input_string.split('\\n') if x.strip() != \"\" ]\n",
    "    temp2 = [ x.split(':') for x in temp1 ]\n",
    "    def f(x):\n",
    "        result = [ y.strip() for y in x.split(',') if y.strip() != \"\" ]\n",
    "        return result\n",
    "    states = { x[0].strip() : f(x[1]) for x in temp2 }\n",
    "    return states"
   ]
  },
  {
   "cell_type": "code",
   "execution_count": null,
   "metadata": {},
   "outputs": [],
   "source": [
    "states = states_string_to_data_structure(allowed_states)"
   ]
  },
  {
   "cell_type": "code",
   "execution_count": null,
   "metadata": {},
   "outputs": [],
   "source": [
    "x= [1,2,4,5,6]\n",
    "height = [1,1,1,2,2,]"
   ]
  },
  {
   "cell_type": "code",
   "execution_count": null,
   "metadata": {},
   "outputs": [],
   "source": [
    "flag=True\n",
    "curr_state = 'entry'\n",
    "all_states = ['entry']\n",
    "all_commands = []\n",
    "\n",
    "while(flag):\n",
    "    possible_next_steps = states[curr_state]\n",
    "    if len(possible_next_steps) > 1:\n",
    "        print(\"please select from\", possible_next_steps)\n",
    "        my_in = input()\n",
    "    else:\n",
    "        my_in = possible_next_steps[0]\n",
    "    \n",
    "    if my_in.lower() == 'end':\n",
    "        flag = False\n",
    "    elif my_in not in possible_next_steps:\n",
    "        print(\"Sry, couldn't understand you!\")\n",
    "        continue\n",
    "    else: # so my_in is now in possible_next_steps\n",
    "        required_states = state_requires.get(my_in,[None])[0]\n",
    "        if (required_states is None) or (required_states & set(all_states)):\n",
    "            print(state_user_message.get(my_in,my_in))\n",
    "            all_states.append(my_in)\n",
    "            all_commands.extend(state_to_command.get(my_in,[]))\n",
    "            #\n",
    "            [ eval(bla, globals(), locals()) for bla in all_commands ]\n",
    "            plt.show()\n",
    "            #\n",
    "            curr_state = my_in\n",
    "        else:\n",
    "            print(state_requires.get(my_in)[1])\n",
    "            curr_state = required_state\n",
    "print('bye')"
   ]
  },
  {
   "cell_type": "code",
   "execution_count": null,
   "metadata": {},
   "outputs": [],
   "source": []
  },
  {
   "cell_type": "code",
   "execution_count": null,
   "metadata": {},
   "outputs": [],
   "source": [
    "all_states"
   ]
  },
  {
   "cell_type": "code",
   "execution_count": null,
   "metadata": {},
   "outputs": [],
   "source": [
    "all_commands"
   ]
  }
 ],
 "metadata": {
  "kernelspec": {
   "display_name": "Python [conda env:dl] *",
   "language": "python",
   "name": "conda-env-dl-py"
  },
  "language_info": {
   "codemirror_mode": {
    "name": "ipython",
    "version": 3
   },
   "file_extension": ".py",
   "mimetype": "text/x-python",
   "name": "python",
   "nbconvert_exporter": "python",
   "pygments_lexer": "ipython3",
   "version": "3.7.4"
  }
 },
 "nbformat": 4,
 "nbformat_minor": 4
}
